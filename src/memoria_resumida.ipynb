{
 "cells": [
  {
   "attachments": {},
   "cell_type": "markdown",
   "metadata": {},
   "source": [
    "\n",
    "# Memoria del Proyecto: Cómic Asiático en la Comunidad Fansub Hispanohablante\n",
    "\n",
    "## Introducción\n",
    "\n",
    "En esta memoria, se presenta el proyecto realizado sobre el cómic asiático en la comunidad fansub hispanohablante. El objetivo principal de este proyecto fue analizar y explorar diferentes aspectos del cómic asiático, incluyendo su popularidad, géneros, demografías y opinión de la comunidad.\n",
    "\n",
    "## Objetivos\n",
    "\n",
    "- Recopilar y analizar datos sobre el cómic asiático en la comunidad fansub hispanohablante.\n",
    "- Investigar y definir los distintos géneros y demografías presentes en el cómic asiático.\n",
    "- Realizar un análisis exploratorio de los datos para identificar tendencias y patrones.\n",
    "- Crear visualizaciones y gráficas informativas para representar los resultados obtenidos.\n",
    "- Obtener conclusiones relevantes sobre la evolución y percepción del cómic asiático en la comunidad hispanohablante.\n",
    "\n",
    "## Metodología\n",
    "\n",
    "### Obtención de datos\n",
    "\n",
    "La obtención de datos se realizó principalmente a través de la página [TuMangaOnline](https://lectortmo.com/). Se emplearon las técnicas de web scraping utilizando las herramientas Selenium y BeautifulSoup. Se crearon dos conjuntos de datos principales, uno para los libros (Books) y otro para los capítulos (Chapters), así como un subconjunto adicional para las subidas múltiples.\n",
    "\n",
    "### Procesamiento y limpieza de datos\n",
    "\n",
    "Se llevó a cabo un proceso de limpieza de datos para eliminar duplicados y asegurar la calidad de la información. Además, se realizaron transformaciones en los campos de interés, como la conversión de valores en campos numéricos.\n",
    "\n",
    "### Análisis y visualización de datos\n",
    "\n",
    "Se utilizó la biblioteca Python y diversas técnicas de análisis exploratorio de datos para examinar los datos obtenidos. Se generaron gráficas y visualizaciones para representar la información de manera clara y comprensible. Se analizaron aspectos como la puntuación, valoraciones, géneros, demografías y subidas de capítulos.\n",
    "\n",
    "## Resultados\n",
    "\n",
    "### Análisis de géneros y demografías\n",
    "\n",
    "Se definieron y se exploraron los principales géneros del cómic asiático, como el manga, manhwa, manhua, josei, seinen, shoujo, shounen y kodomo. Se proporcionaron definiciones y se realizó una separación entre los tipos y demografías. Se observaron tendencias y preferencias dentro de la comunidad fansub hispanohablante.\n",
    "\n",
    "### Opinión de la comunidad\n",
    "\n",
    "Se recopilaron datos sobre la opinión de la comunidad hispanohablante en relación con el cómic asiático. Se analizaron campos como el \"score\", \"read\", \"pending\", \"following\", \"favorite\", \"have\" y \"abandoned\". Se generaron gráficas y se exploró la correlación entre estos campos.\n",
    "\n",
    "### Evolución del cómic asiático en la comunidad hispanohablante\n",
    "\n",
    "Se examinaron los datos recopilados a lo largo de la última década para analizar la evolución del cómic asiático en la comunidad fansub hispanohablante. Se destacó el aumento del producto coreano (Manhwa) dentro del cómic asiático. Además, se observó que el manga ha sido consistentemente más publicado que el manhwa a lo largo de los nueve años analizados, a excepción de un breve periodo en el año 2021.\n",
    "\n",
    "## Conclusiones\n",
    "\n",
    "El proyecto ha permitido obtener una visión más clara y detallada sobre el cómic asiático en la comunidad fansub hispanohablante. Se evidenció que, aunque el score del manga y el manhwa son similares, el manhwa ha generado mayor participación y valoración por parte de los lectores. Además, se observó una tendencia de publicación constante del manga a lo largo de la última década.\n",
    "\n",
    "Este proyecto sienta las bases para futuros análisis y estudios sobre el cómic asiático, proporcionando información valiosa sobre su popularidad, géneros, demografías y la opinión de la comunidad hispanohablante."
   ]
  }
 ],
 "metadata": {
  "language_info": {
   "name": "python"
  },
  "orig_nbformat": 4
 },
 "nbformat": 4,
 "nbformat_minor": 2
}
