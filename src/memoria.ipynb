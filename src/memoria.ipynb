{
 "cells": [
  {
   "attachments": {},
   "cell_type": "markdown",
   "metadata": {},
   "source": [
    "![](./notebooks/img/ANDO-manga-manhwa-manhua.png)"
   ]
  },
  {
   "attachments": {},
   "cell_type": "markdown",
   "metadata": {},
   "source": [
    "### Título:\n",
    "\n",
    "## Cómic Asiático en la Comunidad Fansub Hispanohablante: El Aumento del Manhwa Coreano\n",
    "\n",
    "### Tema:\n",
    "\n",
    "El crecimiento del manhwa coreano dentro del cómic asiático en la comunidad fansub hispanohablante desde 2014 hasta la actualidad.\n",
    "\n",
    "Enfoque:\n",
    "\n",
    "En esta presentación, analizaremos el crecimiento y la evolución del manhwa coreano dentro del cómic asiático en la comunidad fansub hispanohablante. Exploraremos los datos recopilados desde el año 2014 hasta la fecha actual para comprender cómo el manhwa ha ganado popularidad y ha capturado el interés de los lectores en la comunidad hispanohablante.\n",
    "\n",
    "## Gráficas:\n",
    "\n",
    "1. **Aumento de traducciones**: Mostraremos la cantidad de traducciones de manhwa coreano realizadas por fansubs hispanohablantes desde el año 2014 hasta la actualidad. Esto nos permitirá visualizar el incremento en el número de obras disponibles en español y el esfuerzo de los fansubs para difundir el manhwa.\n",
    "\n",
    "2. **Popularidad en redes sociales**: Veremos el crecimiento de seguidores, menciones y hashtags relacionados con el manhwa en la comunidad fansub hispanohablante a lo largo de los años.\n",
    "\n",
    "3. **Crecimiento de lectores**: Mostraremos el aumento de lectores hispanohablantes de manhwa coreano a lo largo de los años. Esto nos permitirá observar cómo ha crecido la base de lectores y la demanda de obras de manhwa en la comunidad fansub hispanohablante.\n",
    "\n",
    "### Conclusiones:\n",
    "\n",
    "Tras analizar los datos recopilados, podremos obtener conclusiones claras sobre el crecimiento del manhwa coreano en la comunidad fansub hispanohablante. Veremos cómo ha aumentado la disponibilidad de traducciones, la popularidad en redes sociales, la participación en eventos, las reseñas y recomendaciones, así como el número de lectores interesados en el manhwa. Estas conclusiones nos brindarán una visión completa de cómo el manhwa coreano se ha posicionado como un elemento importante dentro del cómic asiático en la comunidad hispanohablante en los últimos años."
   ]
  },
  {
   "attachments": {},
   "cell_type": "markdown",
   "metadata": {},
   "source": [
    "### Obtención de los datos\n",
    "\n",
    "La fuente principal de todos los datos obtenidos ha sido a través de la página [TuMangaOnline](https://lectortmo.com/). Para recopilar los datos, se utilizó una combinación de las herramientas de automatización web Selenium y Beautiful Soup.\n",
    "\n",
    "Durante el proceso de obtención de datos, se crearon dos conjuntos de datos principales: \"Book\" y \"Chapters\". El conjunto de datos \"Book\" contiene información detallada sobre los cómics, como el título, el autor, el género y la puntuación. El conjunto de datos \"Chapters\" incluye información específica sobre cada capítulo de los cómics, como el número de capítulo, el título y la fecha de publicación.\n",
    "\n",
    "Además, se creó un subconjunto de datos adicional denominado \"Multy upload\" que recopila información sobre las cargas múltiples de capítulos. Este subconjunto de datos permite analizar los patrones de publicación y actualización de los cómics en la plataforma.\n",
    "\n",
    "El uso de estas herramientas y la creación de los diferentes conjuntos de datos nos permiten obtener una visión completa y detallada de los cómics disponibles en TuMangaOnline y facilitan el análisis y el estudio de diversas características de los cómics asiáticos en la comunidad hispanohablante."
   ]
  },
  {
   "attachments": {},
   "cell_type": "markdown",
   "metadata": {},
   "source": [
    "### Scraping de datos\n",
    "\n",
    "El proceso de scraping se inició a través del archivo [main.py](./main.py), el cual contiene las funciones principales para la extracción de datos. Además, se utilizaron funciones de apoyo ubicadas en la carpeta [utils](./utils/) para facilitar el proceso de extracción de datos.\n",
    "\n",
    "Durante el scraping, se implementó la ejecución múltiple para optimizar la velocidad y eficiencia del proceso. Esto permitió recopilar una mayor cantidad de datos en menos tiempo.\n",
    "\n",
    "Para la estructura de almacenamiento de los datos, se generó un archivo CSV por cada tipo de demografía de los cómics asiáticos. Esto nos permite organizar los datos de manera más específica y realizar análisis más detallados según cada demografía.\n",
    "\n",
    "Además, para cada cómic (book), se creó un archivo CSV adicional para recopilar la información de los capítulos individuales. Esto nos permite tener un registro separado de los capítulos, incluyendo detalles como el número de capítulo, título y fecha de publicación.\n",
    "\n",
    "Con esta nueva estructura de archivos CSV, se logra una organización más precisa y adaptable a las necesidades de análisis de los datos. Cada archivo CSV se enfoca en una demografía específica y, a su vez, se crea un archivo extra por cada cómic para recopilar los capítulos correspondientes.\n",
    "\n",
    "En resumen, el proceso de scraping se llevó a cabo mediante el archivo [main.py](./main.py) y las funciones auxiliares en la carpeta [utils](./utils/). Se empleó ejecución múltiple para mejorar la eficiencia del proceso. Se crearon archivos CSV separados por cada tipo de demografía de los cómics asiáticos, y se generó un archivo CSV adicional por cada cómic para recopilar los capítulos individuales. Esta estructura de almacenamiento facilita un análisis más detallado y organizado de los datos obtenidos."
   ]
  },
  {
   "attachments": {},
   "cell_type": "markdown",
   "metadata": {},
   "source": [
    "### Unión de los conjuntos de datos\n",
    "\n",
    "Para facilitar el análisis y el tratamiento de los datos recopilados, se llevó a cabo la unión de los diferentes conjuntos de datos según la demografía correspondiente.\n",
    "\n",
    "El proceso de unión se realizó utilizando el código implementado en el notebook [union.ipynb](./notebooks/1.Union/union.ipynb). En este notebook, se utilizó código específico para combinar los conjuntos de datos de cada demografía y crear un único conjunto de datos consolidado.\n",
    "\n",
    "La unión de los conjuntos de datos permite obtener una visión completa y global de los cómics asiáticos en la comunidad fansub hispanohablante, organizados según su demografía. Al unir los conjuntos de datos, se pueden realizar análisis comparativos y extraer conclusiones más precisas sobre las preferencias y tendencias de los lectores en cada demografía.\n",
    "\n",
    "En resumen, se realizó la unión de los conjuntos de datos por demografía utilizando el código implementado en el notebook [union.ipynb](./notebooks/1.Union/union.ipynb). Esta unión nos permite tener un conjunto de datos consolidado y listo para su posterior análisis y tratamiento."
   ]
  },
  {
   "attachments": {},
   "cell_type": "markdown",
   "metadata": {},
   "source": [
    "### Limpieza de duplicados\n",
    "\n",
    "Con el objetivo de garantizar la integridad y la calidad de los datos recopilados, se llevó a cabo un proceso de limpieza para eliminar cualquier duplicidad presente en los conjuntos de datos.\n",
    "\n",
    "El proceso de eliminación de duplicados se implementó utilizando el código proporcionado en el notebook [duplicated.ipynb](./notebooks/2.Duplicated/duplicated.ipynb). En este notebook, se utilizó código específico para identificar y eliminar los registros duplicados en los conjuntos de datos.\n",
    "\n",
    "La eliminación de datos duplicados es fundamental para evitar la redundancia y mantener la precisión de los análisis realizados sobre los cómics asiáticos en la comunidad fansub hispanohablante. Al eliminar los duplicados, nos aseguramos de que cada registro sea único y represente de manera precisa un cómic en particular.\n",
    "\n",
    "Una vez completada la limpieza de duplicados, los conjuntos de datos quedan listos para su análisis y tratamiento posterior, sin la presencia de registros repetidos que podrían distorsionar los resultados.\n",
    "\n",
    "En resumen, se llevó a cabo un proceso de limpieza de duplicados utilizando el código del notebook [duplicated.ipynb](./notebooks/2.Duplicated/duplicated.ipynb). Esto asegura que los conjuntos de datos estén libres de registros duplicados y listos para su análisis sin problemas de redundancia."
   ]
  },
  {
   "attachments": {},
   "cell_type": "markdown",
   "metadata": {},
   "source": [
    "### Tratamiento de los distintos tipos de género\n",
    "\n",
    "Con el fin de facilitar el tratamiento y el análisis de los géneros presentes en los cómics asiáticos, se realizó una separación del campo \"géneros\" en conjuntos de etiquetas o máscaras.\n",
    "\n",
    "Para llevar a cabo este proceso, se utilizó el código implementado en el notebook [genre.ipynb](./notebooks/3.Genre/genre.ipynb). En este notebook, se emplearon técnicas específicas para separar los géneros en conjuntos de etiquetas o máscaras, lo que permitió un tratamiento más sencillo y eficiente de esta información.\n",
    "\n",
    "La separación de los géneros en máscaras o etiquetas facilita el análisis y la clasificación de los cómics según los diferentes géneros presentes en ellos. Al dividir los géneros en conjuntos, se pueden realizar búsquedas más precisas y establecer categorías o agrupaciones según los diferentes géneros existentes.\n",
    "\n",
    "Una vez realizado el tratamiento de los géneros, los conjuntos de datos resultantes estarán preparados para su análisis posterior, permitiendo una exploración más detallada y una comprensión más completa de los cómics asiáticos en la comunidad fansub hispanohablante.\n",
    "\n",
    "En resumen, se realizó el tratamiento de los distintos tipos de género mediante la separación del campo \"géneros\" en conjuntos de máscaras o etiquetas. Esto se llevó a cabo utilizando el código del notebook [genre.ipynb](./notebooks/3.Genre/genre.ipynb). Esta separación facilita el análisis y la clasificación de los cómics según los géneros, permitiendo una exploración más precisa de la información."
   ]
  },
  {
   "attachments": {},
   "cell_type": "markdown",
   "metadata": {},
   "source": [
    "### Tratamiento de los campos \"read\", \"pending\", \"following\", \"favorite\", \"have\" y \"abandoned\"\n",
    "\n",
    "Para facilitar el análisis de los campos \"read\", \"pending\", \"following\", \"favorite\", \"have\" y \"abandoned\", se realizó un proceso de transformación de los datos en bruto a campos numéricos que puedan ser utilizados en cálculos y análisis posteriores.\n",
    "\n",
    "Este tratamiento de los datos se llevó a cabo utilizando el código implementado en el notebook [likes.ipynb](./notebooks/4.Likes/likes.ipynb). En dicho notebook, se aplicaron técnicas específicas para convertir los datos en bruto de estos campos en valores numéricos.\n",
    "\n",
    "El objetivo de esta transformación es permitir la manipulación y comparación de los valores de los campos mencionados de manera más eficiente. Al convertir los datos en números, se puede realizar un análisis cuantitativo de las preferencias y acciones de los usuarios, como la cantidad de cómics leídos, pendientes, seguidos, favoritos, poseídos y abandonados.\n",
    "\n",
    "Una vez completado el tratamiento de los campos, los conjuntos de datos actualizados estarán listos para ser utilizados en análisis estadísticos, visualizaciones y cualquier otro proceso que requiera la manipulación de valores numéricos.\n",
    "\n",
    "En resumen, se llevó a cabo un tratamiento de los campos \"read\", \"pending\", \"following\", \"favorite\", \"have\" y \"abandoned\", convirtiendo los datos en bruto a valores numéricos. Este tratamiento se realizó utilizando el código del notebook [likes.ipynb](./notebooks/4.Likes/likes.ipynb), y permite un análisis más eficiente y cuantitativo de las preferencias y acciones de los usuarios en relación a los cómics asiáticos en la comunidad fansub hispanohablante."
   ]
  },
  {
   "attachments": {},
   "cell_type": "markdown",
   "metadata": {},
   "source": [
    "### Proceso de los capítulos\n",
    "\n",
    "Para organizar y procesar los datos relacionados con los capítulos de los cómics asiáticos, se llevó a cabo un proceso de reunión y limpieza de los archivos CSV correspondientes. Este proceso se realizó utilizando el código implementado en el notebook [chapters.ipynb](./notebooks/5.Chapters/chapters.ipynb).\n",
    "\n",
    "En primer lugar, se reunieron los archivos CSV de los capítulos en dos conjuntos principales. Uno de ellos incluye los capítulos con subidas múltiples, es decir, aquellos capítulos que se han publicado en más de una ocasión. El otro conjunto contiene los capítulos con una única subida.\n",
    "\n",
    "Además de la reunión de los datos, se llevó a cabo un proceso de limpieza para corregir posibles errores en las fechas. Se eliminaron los espacios en blanco innecesarios y se verificó la corrección de las fechas, descartando aquellas que no cumplían con el formato adecuado.\n",
    "\n",
    "Este proceso de organización y limpieza de los capítulos permite tener un conjunto de datos coherente y estructurado. La separación entre los capítulos con subidas múltiples y los de una única subida facilita un análisis más detallado de la disponibilidad y frecuencia de actualización de los cómics.\n",
    "\n",
    "En resumen, se llevó a cabo un proceso de reunión y limpieza de los archivos CSV de los capítulos de los cómics asiáticos utilizando el código del notebook [chapters.ipynb](./notebooks/5.Chapters/chapters.ipynb). Esto permitió tener conjuntos de datos separados para los capítulos con subidas múltiples y los de una única subida, así como una corrección de las fechas para asegurar la integridad de los datos."
   ]
  },
  {
   "attachments": {},
   "cell_type": "markdown",
   "metadata": {},
   "source": [
    "### Gráficas por tipo\n",
    "\n",
    "Con el objetivo de visualizar y analizar los datos por tipo de cómic, se llevaron a cabo diferentes gráficas. Estas gráficas permiten mostrar de manera efectiva la distribución y las características de los cómics según su tipo.\n",
    "\n",
    "El código utilizado para generar estas gráficas se encuentra en el notebook [graphics_by_type.ipynb](./notebooks/6.Graphics_by_type/graphics_by_type.ipynb). En este notebook, se implementaron diversas técnicas y bibliotecas de visualización para crear gráficas representativas de los datos.\n",
    "\n",
    "La generación de gráficas por tipo nos proporciona una visión clara de cómo se distribuyen los cómics asiáticos en la comunidad fansub hispanohablante según su clasificación. Esto nos permite identificar las tendencias y preferencias de los lectores en cuanto a los diferentes tipos de cómics asiáticos, como el manga, manhwa y manhua.\n",
    "\n",
    "Estas gráficas son una herramienta valiosa para comprender la evolución y el impacto del cómic asiático en la comunidad hispanohablante, así como para realizar comparaciones entre los diferentes tipos de cómics.\n",
    "\n",
    "En resumen, se generaron gráficas por tipo de cómic utilizando el código del notebook [graphics_by_type.ipynb](./notebooks/6.Graphics_by_type/graphics_by_type.ipynb). Estas gráficas nos permiten visualizar y analizar de manera efectiva los datos según la clasificación de los cómics, brindándonos información relevante sobre las preferencias de los lectores en la comunidad fansub hispanohablante."
   ]
  },
  {
   "attachments": {},
   "cell_type": "markdown",
   "metadata": {},
   "source": [
    "### Gráficas por demografía\n",
    "\n",
    "Con el objetivo de analizar y visualizar los datos según las distintas demografías, se generaron diversas gráficas representativas. Estas gráficas permiten entender de manera clara la distribución y las características de los cómics asiáticos en la comunidad fansub hispanohablante según la demografía a la que están dirigidos.\n",
    "\n",
    "El código utilizado para generar estas gráficas se encuentra en el notebook [graphics_by_demography.ipynb](./notebooks/7.Graphics_by_demography/graphics_by_demography.ipynb). En este notebook, se utilizaron técnicas de visualización y bibliotecas especializadas para crear gráficas descriptivas de los datos.\n",
    "\n",
    "La generación de gráficas por demografía nos brinda una visión detallada de cómo se distribuyen los cómics asiáticos en la comunidad hispanohablante según las diferentes categorías demográficas, como josei, seinen, shoujo, shounen y kodomo.\n",
    "\n",
    "Estas gráficas nos ayudan a comprender la popularidad y la recepción de los cómics según su demografía específica, así como a identificar las preferencias de los lectores en cuanto a las diferentes categorías demográficas.\n",
    "\n",
    "En resumen, se generaron gráficas por demografía utilizando el código del notebook [graphics_by_demography.ipynb](./notebooks/7.Graphics_by_demography/graphics_by_demography.ipynb). Estas gráficas nos permiten visualizar y analizar de manera efectiva los datos según las demografías de los cómics asiáticos, proporcionando información valiosa sobre las preferencias de los lectores en la comunidad fansub hispanohablante."
   ]
  },
  {
   "attachments": {},
   "cell_type": "markdown",
   "metadata": {},
   "source": [
    "### Gráficas por género\n",
    "\n",
    "Con el fin de analizar y visualizar los datos de los cómics asiáticos según los diferentes géneros, se generaron diversas gráficas representativas. Estas gráficas nos permiten comprender de manera clara la distribución y las características de los cómics asiáticos según sus géneros en la comunidad fansub hispanohablante.\n",
    "\n",
    "El código utilizado para generar estas gráficas se encuentra en el notebook [graphics_by_genre.ipynb](./notebooks/8.Graphics_by_genre/graphics_by_genre.ipynb). En este notebook, se emplearon técnicas de visualización y bibliotecas especializadas para crear gráficas descriptivas de los datos.\n",
    "\n",
    "La generación de gráficas por género nos proporciona una visión detallada de cómo se distribuyen los cómics asiáticos en la comunidad hispanohablante según los distintos géneros, como acción, romance, fantasía, comedia, entre otros.\n",
    "\n",
    "Estas gráficas nos ayudan a identificar las preferencias de los lectores en cuanto a los géneros de los cómics asiáticos y a comprender qué géneros son más populares dentro de la comunidad fansub hispanohablante.\n",
    "\n",
    "En resumen, se generaron gráficas por género utilizando el código del notebook [graphics_by_genre.ipynb](./notebooks/8.Graphics_by_genre/graphics_by_genre.ipynb). Estas gráficas nos permiten visualizar y analizar de manera efectiva los datos según los géneros de los cómics asiáticos, proporcionando información valiosa sobre las preferencias de los lectores en la comunidad fansub hispanohablante.\n"
   ]
  },
  {
   "attachments": {},
   "cell_type": "markdown",
   "metadata": {},
   "source": [
    "### Gráficas de puntuación y valoración\n",
    "\n",
    "Para analizar y visualizar los datos relacionados con la puntuación y valoración de los cómics asiáticos, se generaron diversas gráficas informativas. Estas gráficas permiten examinar de manera clara el puntaje (score) de los cómics, así como las variables adicionales de \"read\", \"pending\", \"following\", \"favorite\", \"have\" y \"abandoned\". Además, se exploró la correlación entre estas variables.\n",
    "\n",
    "El código utilizado para generar estas gráficas se encuentra en el notebook [graphics_by_score.ipynb](./notebooks/9.Graphics_by_score/graphics_by_score.ipynb). En este notebook, se emplearon técnicas de visualización y bibliotecas especializadas para crear gráficas descriptivas de los datos.\n",
    "\n",
    "Las gráficas permiten observar la distribución de la puntuación de los cómics, así como su relación con las variables mencionadas. Además, se analizó la correlación entre estas variables, lo que nos brinda una idea de cómo se relacionan entre sí y cómo pueden influir en la valoración de los cómics por parte de la comunidad fansub hispanohablante.\n",
    "\n",
    "Estas gráficas nos ayudan a comprender las preferencias y comportamientos de los lectores en relación con la puntuación y valoración de los cómics asiáticos. También nos permiten identificar posibles patrones o tendencias en la comunidad fansub hispanohablante en cuanto a la apreciación de los cómics.\n",
    "\n",
    "En resumen, se generaron gráficas relacionadas con la puntuación y valoración de los cómics asiáticos, así como su correlación con las variables de \"read\", \"pending\", \"following\", \"favorite\", \"have\" y \"abandoned\". El código utilizado para generar estas gráficas se encuentra en el notebook [graphics_by_score.ipynb](./notebooks/9.Graphics_by_score/graphics_by_score.ipynb). Estas gráficas nos proporcionan una comprensión más profunda de la percepción y la valoración de los cómics asiáticos por parte de la comunidad fansub hispanohablante.\n"
   ]
  },
  {
   "attachments": {},
   "cell_type": "markdown",
   "metadata": {},
   "source": [
    "### Gráficas por capítulos\n",
    "\n",
    "Con el objetivo de analizar la evolución de los capítulos de los cómics asiáticos en la comunidad fansub hispanohablante, se generaron gráficas representativas. Estas gráficas nos permiten visualizar las subidas de capítulos desde el año 2014 hasta la fecha actual, tanto con subidas individuales como con subidas múltiples, y se discriminan por tipo de cómic.\n",
    "\n",
    "El código utilizado para generar estas gráficas se encuentra en el notebook [graphics_by_chapters.ipynb](./notebooks/10.Graphics_by_chapters/graphics_by_chapters.ipynb). En este notebook, se utilizan técnicas de visualización y bibliotecas especializadas para crear gráficas descriptivas de los datos.\n",
    "\n",
    "Las gráficas por capítulos nos brindan información sobre la cantidad de capítulos subidos a lo largo del tiempo, permitiéndonos identificar patrones de crecimiento o decrecimiento en la producción de capítulos de cómics asiáticos en la comunidad fansub hispanohablante.\n",
    "\n",
    "Además, al discriminar por tipo de cómic, estas gráficas nos ofrecen una perspectiva más detallada de cómo ha evolucionado la subida de capítulos en cada categoría, como manga, manhwa y manhua.\n",
    "\n",
    "En resumen, se generaron gráficas por capítulos utilizando el código del notebook [graphics_by_chapters.ipynb](./notebooks/10.Graphics_by_chapters/graphics_by_chapters.ipynb). Estas gráficas nos permiten visualizar la evolución de las subidas de capítulos en los cómics asiáticos, tanto en general como discriminadas por tipo, brindando una perspectiva valiosa sobre la producción y disponibilidad de capítulos en la comunidad fansub hispanohablante."
   ]
  },
  {
   "attachments": {},
   "cell_type": "markdown",
   "metadata": {},
   "source": [
    "### Conclusion\n",
    "\n",
    "Tras revisar los datos, podemos obtener las siguientes conclusiones:\n",
    "\n",
    "1. El score del manga (8.35) y el manhwa (8.03) son casi idénticos. Esto indica que, en general, ambos tipos de cómics asiáticos han recibido una valoración similar por parte de la comunidad fansub hispanohablante.\n",
    "\n",
    "2. Al analizar las valoraciones específicas de \"read\", \"pending\", \"following\", \"favorite\", \"have\" y \"abandoned\", se observa que el manhwa tiene valores más altos en todas las categorías en comparación con el manga. Por ejemplo, para el manga, los valores son 505.0, 772.0, 982.0, 155.0, 83.0 y 56.0 respectivamente, mientras que para el manhwa son 577.5, 1900.0, 2700.0, 702.5, 402.5 y 239.5 respectivamente. Esto indica que el manhwa ha generado mayor interacción y participación de los lectores en términos de lecturas, pendientes, seguimiento, favoritos, posesión y abandonos.\n",
    "\n",
    "3. En cuanto a la publicación de cómics, se observa que durante un par de meses en el año 2021 se llegó a publicar más manhwa que mangas. Sin embargo, en los otros años analizados (desde 2014 hasta el presente), el manga ha tenido una mayor cantidad de publicaciones en comparación con el manhwa. Esto indica que, en general, el manga ha sido más ampliamente publicado y disponible a lo largo de los últimos nueve años en la comunidad fansub hispanohablante.\n",
    "\n",
    "Estas conclusiones nos permiten comprender mejor la situación del cómic asiático en la comunidad hispanohablante. A pesar de la similitud en el score entre el manga y el manhwa, el manhwa ha generado una mayor participación y valoración por parte de los lectores. Además, aunque hubo un breve periodo en el 2021 donde se publicaron más manhwas, el manga ha sido consistentemente más publicado a lo largo de la última década.\n",
    "\n"
   ]
  }
 ],
 "metadata": {
  "kernelspec": {
   "display_name": "Python 3",
   "language": "python",
   "name": "python3"
  },
  "language_info": {
   "codemirror_mode": {
    "name": "ipython",
    "version": 3
   },
   "file_extension": ".py",
   "mimetype": "text/x-python",
   "name": "python",
   "nbconvert_exporter": "python",
   "pygments_lexer": "ipython3",
   "version": "3.10.11"
  },
  "orig_nbformat": 4
 },
 "nbformat": 4,
 "nbformat_minor": 2
}
