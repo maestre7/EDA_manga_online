{
 "cells": [
  {
   "cell_type": "code",
   "execution_count": 21,
   "metadata": {},
   "outputs": [],
   "source": [
    "import pandas as pd"
   ]
  },
  {
   "cell_type": "code",
   "execution_count": 22,
   "metadata": {},
   "outputs": [],
   "source": [
    "manga_josei_df = pd.read_csv(\"../data/manga_josei.csv\")\n",
    "manga_kodomo_df = pd.read_csv(\"../data/manga_kodomo.csv\")\n",
    "manga_seinen_df = pd.read_csv(\"../data/manga_seinen.csv\")\n",
    "manga_shoujo_df = pd.read_csv(\"../data/manga_shoujo.csv\")\n",
    "manga_shounen_df = pd.read_csv(\"../data/manga_shounen.csv\")"
   ]
  },
  {
   "cell_type": "code",
   "execution_count": 23,
   "metadata": {},
   "outputs": [],
   "source": [
    "manhwa_josei_df = pd.read_csv(\"../data/manhwa_josei.csv\")\n",
    "manhwa_kodomo_df = pd.read_csv(\"../data/manhwa_kodomo.csv\")\n",
    "manhwa_seinen_df = pd.read_csv(\"../data/manhwa_seinen.csv\")\n",
    "manhwa_shoujo_df = pd.read_csv(\"../data/manhwa_shoujo.csv\")\n",
    "manhwa_shounen_df = pd.read_csv(\"../data/manhwa_shounen.csv\")"
   ]
  },
  {
   "cell_type": "code",
   "execution_count": 24,
   "metadata": {},
   "outputs": [],
   "source": [
    "manhua_josei_df = pd.read_csv(\"../data/manhua_josei.csv\")\n",
    "manhua_kodomo_df = pd.read_csv(\"../data/manhua_kodomo.csv\")\n",
    "manhua_seinen_df = pd.read_csv(\"../data/manhua_seinen.csv\")\n",
    "manhua_shoujo_df = pd.read_csv(\"../data/manhua_shoujo.csv\")\n",
    "manhua_shounen_df = pd.read_csv(\"../data/manhua_shounen.csv\")"
   ]
  },
  {
   "cell_type": "code",
   "execution_count": 25,
   "metadata": {},
   "outputs": [],
   "source": [
    "manga_df = pd.concat([manga_josei_df, manga_kodomo_df, manga_seinen_df, manga_shoujo_df, manga_shounen_df])\n",
    "manhwa_df = pd.concat([manhwa_josei_df, manhwa_kodomo_df, manhwa_seinen_df, manhwa_shoujo_df, manhwa_shounen_df])\n",
    "manhua_df = pd.concat([manhua_josei_df, manhua_kodomo_df, manhua_seinen_df, manhua_shoujo_df, manhua_shounen_df])"
   ]
  },
  {
   "cell_type": "code",
   "execution_count": 27,
   "metadata": {},
   "outputs": [
    {
     "name": "stdout",
     "output_type": "stream",
     "text": [
      "Index(['Unnamed: 0', 'synopsis', 'demography', 'type', 'name', 'genre',\n",
      "       'score', 'book_status', 'book_cover', 'read', 'pending', 'following',\n",
      "       'favorite', 'have', 'abandoned', 'uuid'],\n",
      "      dtype='object')\n",
      "19073\n",
      "<class 'pandas.core.frame.DataFrame'>\n",
      "Index: 19073 entries, 0 to 714\n",
      "Data columns (total 16 columns):\n",
      " #   Column       Non-Null Count  Dtype  \n",
      "---  ------       --------------  -----  \n",
      " 0   Unnamed: 0   19073 non-null  int64  \n",
      " 1   synopsis     19072 non-null  object \n",
      " 2   demography   19073 non-null  object \n",
      " 3   type         19073 non-null  object \n",
      " 4   name         19073 non-null  object \n",
      " 5   genre        18988 non-null  object \n",
      " 6   score        19073 non-null  float64\n",
      " 7   book_status  19073 non-null  object \n",
      " 8   book_cover   19073 non-null  object \n",
      " 9   read         19073 non-null  object \n",
      " 10  pending      19073 non-null  object \n",
      " 11  following    19073 non-null  object \n",
      " 12  favorite     19073 non-null  object \n",
      " 13  have         19073 non-null  object \n",
      " 14  abandoned    19073 non-null  object \n",
      " 15  uuid         19073 non-null  object \n",
      "dtypes: float64(1), int64(1), object(14)\n",
      "memory usage: 2.5+ MB\n",
      "None\n"
     ]
    }
   ],
   "source": [
    "# Verificamos\n",
    "dataset_df = pd.concat([manga_df, manhwa_df, manhua_df])\n",
    "dataset_df.drop('Unnamed: 0', axis=1)\n",
    "print(dataset_df.columns)\n",
    "print(len(dataset_df))\n",
    "print(dataset_df.info())\n"
   ]
  },
  {
   "cell_type": "code",
   "execution_count": null,
   "metadata": {},
   "outputs": [],
   "source": [
    "print(dataset_df.describe())"
   ]
  },
  {
   "cell_type": "code",
   "execution_count": null,
   "metadata": {},
   "outputs": [],
   "source": [
    "dataset_df.to_csv(\"../data/dataset_one.csv\")"
   ]
  }
 ],
 "metadata": {
  "kernelspec": {
   "display_name": "Python 3",
   "language": "python",
   "name": "python3"
  },
  "language_info": {
   "codemirror_mode": {
    "name": "ipython",
    "version": 3
   },
   "file_extension": ".py",
   "mimetype": "text/x-python",
   "name": "python",
   "nbconvert_exporter": "python",
   "pygments_lexer": "ipython3",
   "version": "3.10.11"
  },
  "orig_nbformat": 4
 },
 "nbformat": 4,
 "nbformat_minor": 2
}
