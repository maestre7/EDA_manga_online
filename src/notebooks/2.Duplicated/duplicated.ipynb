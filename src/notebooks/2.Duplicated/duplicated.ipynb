{
 "cells": [
  {
   "cell_type": "code",
   "execution_count": 1,
   "metadata": {},
   "outputs": [],
   "source": [
    "import pandas as pd"
   ]
  },
  {
   "cell_type": "code",
   "execution_count": 2,
   "metadata": {},
   "outputs": [
    {
     "name": "stdout",
     "output_type": "stream",
     "text": [
      "19073\n",
      "Index(['synopsis', 'demography', 'type', 'name', 'genre', 'score',\n",
      "       'book_status', 'book_cover', 'read', 'pending', 'following', 'favorite',\n",
      "       'have', 'abandoned', 'uuid'],\n",
      "      dtype='object')\n"
     ]
    }
   ],
   "source": [
    "dataset_df = pd.read_csv(\"../../data/dataset_1.csv\", index_col='Unnamed: 0')\n",
    "print(len(dataset_df))\n",
    "print(dataset_df.columns)"
   ]
  },
  {
   "cell_type": "code",
   "execution_count": 3,
   "metadata": {},
   "outputs": [
    {
     "data": {
      "text/plain": [
       "34"
      ]
     },
     "execution_count": 3,
     "metadata": {},
     "output_type": "execute_result"
    }
   ],
   "source": [
    "duplicate_df = dataset_df[dataset_df.duplicated(\"name\")]\n",
    "len(duplicate_df)"
   ]
  },
  {
   "cell_type": "code",
   "execution_count": 4,
   "metadata": {},
   "outputs": [],
   "source": [
    "dataset_df.drop_duplicates(subset = \"name\", inplace=True)"
   ]
  },
  {
   "cell_type": "code",
   "execution_count": 5,
   "metadata": {},
   "outputs": [],
   "source": [
    "dataset_df.to_csv(\"../../data/dataset_2.csv\")"
   ]
  }
 ],
 "metadata": {
  "kernelspec": {
   "display_name": "Python 3",
   "language": "python",
   "name": "python3"
  },
  "language_info": {
   "codemirror_mode": {
    "name": "ipython",
    "version": 3
   },
   "file_extension": ".py",
   "mimetype": "text/x-python",
   "name": "python",
   "nbconvert_exporter": "python",
   "pygments_lexer": "ipython3",
   "version": "3.10.11"
  },
  "orig_nbformat": 4
 },
 "nbformat": 4,
 "nbformat_minor": 2
}
