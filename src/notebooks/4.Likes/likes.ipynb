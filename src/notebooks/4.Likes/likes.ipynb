{
 "cells": [
  {
   "cell_type": "code",
   "execution_count": 25,
   "metadata": {},
   "outputs": [],
   "source": [
    "import pandas as pd"
   ]
  },
  {
   "cell_type": "code",
   "execution_count": 26,
   "metadata": {},
   "outputs": [
    {
     "data": {
      "text/plain": [
       "Index(['synopsis', 'demography', 'type', 'name', 'genre', 'score',\n",
       "       'book_status', 'book_cover', 'read', 'pending', 'following', 'favorite',\n",
       "       'have', 'abandoned', 'uuid', 'Magia', 'Mecha', 'Demonios',\n",
       "       'Género Bender', 'Realidad Virtual', 'Drama', 'Niños', 'Guerra',\n",
       "       'Harem', 'Vampiros', 'Horror', 'Acción', 'Realidad', 'Traps', 'Militar',\n",
       "       'Crimen', 'Recuentos de la vida', 'Apocalíptico', 'Psicológico',\n",
       "       'Misterio', 'Musica', 'Extranjero', 'Samurái', 'Girls Love',\n",
       "       'Telenovela', 'Policiaco', 'Animación', 'Parodia', 'Deporte',\n",
       "       'Supervivencia', 'Aventura', 'Oeste', 'Superpoderes', 'Ecchi',\n",
       "       'Tragedia', 'Fantasia', 'Gore', 'Boys Love', 'Reencarnación',\n",
       "       'Sobrenatural', 'Vida Escolar', 'Historia', 'Romance',\n",
       "       'Ciencia Ficción', 'Thriller', 'Ciberpunk', 'Artes Marciales',\n",
       "       'Comedia', 'Familia'],\n",
       "      dtype='object')"
      ]
     },
     "execution_count": 26,
     "metadata": {},
     "output_type": "execute_result"
    }
   ],
   "source": [
    "dataset_df = pd.read_csv(\"../../data/dataset_3.csv\", index_col=0)\n",
    "dataset_df.columns"
   ]
  },
  {
   "cell_type": "code",
   "execution_count": 27,
   "metadata": {},
   "outputs": [
    {
     "name": "stdout",
     "output_type": "stream",
     "text": [
      "17.7\n",
      "K\n"
     ]
    }
   ],
   "source": [
    "r = dataset_df[\"read\"]\n",
    "a = r[0]\n",
    "print(float(a[0:-1]))\n",
    "print(a[-1])"
   ]
  },
  {
   "cell_type": "code",
   "execution_count": 28,
   "metadata": {},
   "outputs": [],
   "source": [
    "# Ojo la k esta en mayusculas.\n",
    "dataset_df[\"read\"] = dataset_df[\"read\"].apply(lambda g: float(g) if (g[-1] != \"K\") else (float(g[0:-1]) * 1000))\n",
    "dataset_df[\"pending\"] = dataset_df[\"pending\"].apply(lambda g: float(g) if (g[-1] != \"K\") else (float(g[0:-1]) * 1000))\n",
    "dataset_df[\"following\"] = dataset_df[\"following\"].apply(lambda g: float(g) if (g[-1] != \"K\") else (float(g[0:-1]) * 1000))\n",
    "dataset_df[\"favorite\"] = dataset_df[\"favorite\"].apply(lambda g: float(g) if (g[-1] != \"K\") else (float(g[0:-1]) * 1000))\n",
    "dataset_df[\"have\"] = dataset_df[\"have\"].apply(lambda g: float(g) if (g[-1] != \"K\") else (float(g[0:-1]) * 1000))\n",
    "dataset_df[\"abandoned\"] = dataset_df[\"abandoned\"].apply(lambda g: float(g) if (g[-1] != \"K\") else (float(g[0:-1]) * 1000))"
   ]
  },
  {
   "cell_type": "code",
   "execution_count": 29,
   "metadata": {},
   "outputs": [
    {
     "data": {
      "text/html": [
       "<div>\n",
       "<style scoped>\n",
       "    .dataframe tbody tr th:only-of-type {\n",
       "        vertical-align: middle;\n",
       "    }\n",
       "\n",
       "    .dataframe tbody tr th {\n",
       "        vertical-align: top;\n",
       "    }\n",
       "\n",
       "    .dataframe thead th {\n",
       "        text-align: right;\n",
       "    }\n",
       "</style>\n",
       "<table border=\"1\" class=\"dataframe\">\n",
       "  <thead>\n",
       "    <tr style=\"text-align: right;\">\n",
       "      <th></th>\n",
       "      <th>read</th>\n",
       "      <th>pending</th>\n",
       "      <th>following</th>\n",
       "      <th>favorite</th>\n",
       "      <th>have</th>\n",
       "      <th>abandoned</th>\n",
       "    </tr>\n",
       "  </thead>\n",
       "  <tbody>\n",
       "    <tr>\n",
       "      <th>0</th>\n",
       "      <td>17700.0</td>\n",
       "      <td>8900.0</td>\n",
       "      <td>7200.0</td>\n",
       "      <td>4100.0</td>\n",
       "      <td>1500.0</td>\n",
       "      <td>458.0</td>\n",
       "    </tr>\n",
       "    <tr>\n",
       "      <th>1</th>\n",
       "      <td>4000.0</td>\n",
       "      <td>2600.0</td>\n",
       "      <td>3700.0</td>\n",
       "      <td>713.0</td>\n",
       "      <td>307.0</td>\n",
       "      <td>386.0</td>\n",
       "    </tr>\n",
       "    <tr>\n",
       "      <th>2</th>\n",
       "      <td>8500.0</td>\n",
       "      <td>3600.0</td>\n",
       "      <td>5700.0</td>\n",
       "      <td>2200.0</td>\n",
       "      <td>755.0</td>\n",
       "      <td>289.0</td>\n",
       "    </tr>\n",
       "    <tr>\n",
       "      <th>3</th>\n",
       "      <td>6400.0</td>\n",
       "      <td>2300.0</td>\n",
       "      <td>3200.0</td>\n",
       "      <td>1200.0</td>\n",
       "      <td>491.0</td>\n",
       "      <td>253.0</td>\n",
       "    </tr>\n",
       "    <tr>\n",
       "      <th>4</th>\n",
       "      <td>478.0</td>\n",
       "      <td>1200.0</td>\n",
       "      <td>2600.0</td>\n",
       "      <td>420.0</td>\n",
       "      <td>206.0</td>\n",
       "      <td>141.0</td>\n",
       "    </tr>\n",
       "    <tr>\n",
       "      <th>...</th>\n",
       "      <td>...</td>\n",
       "      <td>...</td>\n",
       "      <td>...</td>\n",
       "      <td>...</td>\n",
       "      <td>...</td>\n",
       "      <td>...</td>\n",
       "    </tr>\n",
       "    <tr>\n",
       "      <th>19068</th>\n",
       "      <td>3.0</td>\n",
       "      <td>35.0</td>\n",
       "      <td>35.0</td>\n",
       "      <td>8.0</td>\n",
       "      <td>6.0</td>\n",
       "      <td>4.0</td>\n",
       "    </tr>\n",
       "    <tr>\n",
       "      <th>19069</th>\n",
       "      <td>28.0</td>\n",
       "      <td>116.0</td>\n",
       "      <td>118.0</td>\n",
       "      <td>2.0</td>\n",
       "      <td>4.0</td>\n",
       "      <td>6.0</td>\n",
       "    </tr>\n",
       "    <tr>\n",
       "      <th>19070</th>\n",
       "      <td>34.0</td>\n",
       "      <td>109.0</td>\n",
       "      <td>74.0</td>\n",
       "      <td>3.0</td>\n",
       "      <td>4.0</td>\n",
       "      <td>6.0</td>\n",
       "    </tr>\n",
       "    <tr>\n",
       "      <th>19071</th>\n",
       "      <td>64.0</td>\n",
       "      <td>237.0</td>\n",
       "      <td>350.0</td>\n",
       "      <td>7.0</td>\n",
       "      <td>8.0</td>\n",
       "      <td>18.0</td>\n",
       "    </tr>\n",
       "    <tr>\n",
       "      <th>19072</th>\n",
       "      <td>62.0</td>\n",
       "      <td>137.0</td>\n",
       "      <td>137.0</td>\n",
       "      <td>0.0</td>\n",
       "      <td>4.0</td>\n",
       "      <td>4.0</td>\n",
       "    </tr>\n",
       "  </tbody>\n",
       "</table>\n",
       "<p>19039 rows × 6 columns</p>\n",
       "</div>"
      ],
      "text/plain": [
       "          read  pending  following  favorite    have  abandoned\n",
       "0      17700.0   8900.0     7200.0    4100.0  1500.0      458.0\n",
       "1       4000.0   2600.0     3700.0     713.0   307.0      386.0\n",
       "2       8500.0   3600.0     5700.0    2200.0   755.0      289.0\n",
       "3       6400.0   2300.0     3200.0    1200.0   491.0      253.0\n",
       "4        478.0   1200.0     2600.0     420.0   206.0      141.0\n",
       "...        ...      ...        ...       ...     ...        ...\n",
       "19068      3.0     35.0       35.0       8.0     6.0        4.0\n",
       "19069     28.0    116.0      118.0       2.0     4.0        6.0\n",
       "19070     34.0    109.0       74.0       3.0     4.0        6.0\n",
       "19071     64.0    237.0      350.0       7.0     8.0       18.0\n",
       "19072     62.0    137.0      137.0       0.0     4.0        4.0\n",
       "\n",
       "[19039 rows x 6 columns]"
      ]
     },
     "execution_count": 29,
     "metadata": {},
     "output_type": "execute_result"
    }
   ],
   "source": [
    "dataset_df[[\"read\", \"pending\", \"following\", \"favorite\", \"have\", \"abandoned\"]]"
   ]
  },
  {
   "cell_type": "code",
   "execution_count": 30,
   "metadata": {},
   "outputs": [],
   "source": [
    "dataset_df.to_csv(\"../../data/dataset_4.csv\")"
   ]
  }
 ],
 "metadata": {
  "kernelspec": {
   "display_name": "Python 3",
   "language": "python",
   "name": "python3"
  },
  "language_info": {
   "codemirror_mode": {
    "name": "ipython",
    "version": 3
   },
   "file_extension": ".py",
   "mimetype": "text/x-python",
   "name": "python",
   "nbconvert_exporter": "python",
   "pygments_lexer": "ipython3",
   "version": "3.10.11"
  },
  "orig_nbformat": 4
 },
 "nbformat": 4,
 "nbformat_minor": 2
}
