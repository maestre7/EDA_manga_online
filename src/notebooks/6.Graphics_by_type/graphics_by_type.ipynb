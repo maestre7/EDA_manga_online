{
 "cells": [
  {
   "cell_type": "code",
   "execution_count": 1,
   "metadata": {},
   "outputs": [],
   "source": [
    "import seaborn as sns\n",
    "import pandas as pd\n",
    "import matplotlib.pyplot as plt"
   ]
  },
  {
   "cell_type": "code",
   "execution_count": 2,
   "metadata": {},
   "outputs": [],
   "source": [
    "# manga = #6372c2 or #7986cb\n",
    "# manhau = #7b6056 or #8d6e63\n",
    "# manhwa = #6cbe6f or #81c784\n",
    "palette={\"MANGA\": \"#7986cb\", \"MANHUA\": \"#8d6e63\", \"MANHWA\": \"#81c784\"}"
   ]
  },
  {
   "cell_type": "code",
   "execution_count": 3,
   "metadata": {},
   "outputs": [
    {
     "name": "stdout",
     "output_type": "stream",
     "text": [
      "19039\n"
     ]
    }
   ],
   "source": [
    "dataset_df = pd.read_csv(\"../../data/dataset_4.csv\", index_col=\"Unnamed: 0\")\n",
    "print(len(dataset_df))"
   ]
  },
  {
   "cell_type": "code",
   "execution_count": 4,
   "metadata": {},
   "outputs": [
    {
     "data": {
      "text/html": [
       "<div>\n",
       "<style scoped>\n",
       "    .dataframe tbody tr th:only-of-type {\n",
       "        vertical-align: middle;\n",
       "    }\n",
       "\n",
       "    .dataframe tbody tr th {\n",
       "        vertical-align: top;\n",
       "    }\n",
       "\n",
       "    .dataframe thead th {\n",
       "        text-align: right;\n",
       "    }\n",
       "</style>\n",
       "<table border=\"1\" class=\"dataframe\">\n",
       "  <thead>\n",
       "    <tr style=\"text-align: right;\">\n",
       "      <th></th>\n",
       "      <th>score</th>\n",
       "      <th>read</th>\n",
       "      <th>pending</th>\n",
       "      <th>following</th>\n",
       "      <th>favorite</th>\n",
       "      <th>have</th>\n",
       "      <th>abandoned</th>\n",
       "    </tr>\n",
       "  </thead>\n",
       "  <tbody>\n",
       "    <tr>\n",
       "      <th>count</th>\n",
       "      <td>19039.000000</td>\n",
       "      <td>19039.000000</td>\n",
       "      <td>19039.000000</td>\n",
       "      <td>19039.000000</td>\n",
       "      <td>19039.000000</td>\n",
       "      <td>19039.000000</td>\n",
       "      <td>19039.000000</td>\n",
       "    </tr>\n",
       "    <tr>\n",
       "      <th>mean</th>\n",
       "      <td>6.320739</td>\n",
       "      <td>1381.689900</td>\n",
       "      <td>2003.844320</td>\n",
       "      <td>3948.597563</td>\n",
       "      <td>1035.377961</td>\n",
       "      <td>419.700930</td>\n",
       "      <td>247.333053</td>\n",
       "    </tr>\n",
       "    <tr>\n",
       "      <th>std</th>\n",
       "      <td>3.806957</td>\n",
       "      <td>2775.152915</td>\n",
       "      <td>3031.309175</td>\n",
       "      <td>7954.802081</td>\n",
       "      <td>2542.668126</td>\n",
       "      <td>770.357712</td>\n",
       "      <td>446.928328</td>\n",
       "    </tr>\n",
       "    <tr>\n",
       "      <th>min</th>\n",
       "      <td>0.000000</td>\n",
       "      <td>0.000000</td>\n",
       "      <td>2.000000</td>\n",
       "      <td>1.000000</td>\n",
       "      <td>0.000000</td>\n",
       "      <td>0.000000</td>\n",
       "      <td>0.000000</td>\n",
       "    </tr>\n",
       "    <tr>\n",
       "      <th>25%</th>\n",
       "      <td>1.000000</td>\n",
       "      <td>134.000000</td>\n",
       "      <td>367.000000</td>\n",
       "      <td>418.000000</td>\n",
       "      <td>54.000000</td>\n",
       "      <td>33.000000</td>\n",
       "      <td>25.000000</td>\n",
       "    </tr>\n",
       "    <tr>\n",
       "      <th>50%</th>\n",
       "      <td>8.270000</td>\n",
       "      <td>485.000000</td>\n",
       "      <td>911.000000</td>\n",
       "      <td>1200.000000</td>\n",
       "      <td>225.000000</td>\n",
       "      <td>122.000000</td>\n",
       "      <td>77.000000</td>\n",
       "    </tr>\n",
       "    <tr>\n",
       "      <th>75%</th>\n",
       "      <td>9.000000</td>\n",
       "      <td>1500.000000</td>\n",
       "      <td>2300.000000</td>\n",
       "      <td>3800.000000</td>\n",
       "      <td>940.000000</td>\n",
       "      <td>453.000000</td>\n",
       "      <td>252.000000</td>\n",
       "    </tr>\n",
       "    <tr>\n",
       "      <th>max</th>\n",
       "      <td>10.000000</td>\n",
       "      <td>97500.000000</td>\n",
       "      <td>42700.000000</td>\n",
       "      <td>137900.000000</td>\n",
       "      <td>68100.000000</td>\n",
       "      <td>11300.000000</td>\n",
       "      <td>7000.000000</td>\n",
       "    </tr>\n",
       "  </tbody>\n",
       "</table>\n",
       "</div>"
      ],
      "text/plain": [
       "              score          read       pending      following      favorite   \n",
       "count  19039.000000  19039.000000  19039.000000   19039.000000  19039.000000  \\\n",
       "mean       6.320739   1381.689900   2003.844320    3948.597563   1035.377961   \n",
       "std        3.806957   2775.152915   3031.309175    7954.802081   2542.668126   \n",
       "min        0.000000      0.000000      2.000000       1.000000      0.000000   \n",
       "25%        1.000000    134.000000    367.000000     418.000000     54.000000   \n",
       "50%        8.270000    485.000000    911.000000    1200.000000    225.000000   \n",
       "75%        9.000000   1500.000000   2300.000000    3800.000000    940.000000   \n",
       "max       10.000000  97500.000000  42700.000000  137900.000000  68100.000000   \n",
       "\n",
       "               have     abandoned  \n",
       "count  19039.000000  19039.000000  \n",
       "mean     419.700930    247.333053  \n",
       "std      770.357712    446.928328  \n",
       "min        0.000000      0.000000  \n",
       "25%       33.000000     25.000000  \n",
       "50%      122.000000     77.000000  \n",
       "75%      453.000000    252.000000  \n",
       "max    11300.000000   7000.000000  "
      ]
     },
     "execution_count": 4,
     "metadata": {},
     "output_type": "execute_result"
    }
   ],
   "source": [
    "dataset_df.describe()"
   ]
  },
  {
   "cell_type": "code",
   "execution_count": 5,
   "metadata": {},
   "outputs": [
    {
     "name": "stdout",
     "output_type": "stream",
     "text": [
      "<class 'pandas.core.frame.DataFrame'>\n",
      "Index: 19039 entries, 0 to 19072\n",
      "Data columns (total 64 columns):\n",
      " #   Column                Non-Null Count  Dtype  \n",
      "---  ------                --------------  -----  \n",
      " 0   synopsis              19038 non-null  object \n",
      " 1   demography            19039 non-null  object \n",
      " 2   type                  19039 non-null  object \n",
      " 3   name                  19039 non-null  object \n",
      " 4   genre                 18954 non-null  object \n",
      " 5   score                 19039 non-null  float64\n",
      " 6   book_status           19039 non-null  object \n",
      " 7   book_cover            19039 non-null  object \n",
      " 8   read                  19039 non-null  float64\n",
      " 9   pending               19039 non-null  float64\n",
      " 10  following             19039 non-null  float64\n",
      " 11  favorite              19039 non-null  float64\n",
      " 12  have                  19039 non-null  float64\n",
      " 13  abandoned             19039 non-null  float64\n",
      " 14  uuid                  19039 non-null  object \n",
      " 15  Magia                 19039 non-null  bool   \n",
      " 16  Mecha                 19039 non-null  bool   \n",
      " 17  Demonios              19039 non-null  bool   \n",
      " 18  Género Bender         19039 non-null  bool   \n",
      " 19  Realidad Virtual      19039 non-null  bool   \n",
      " 20  Drama                 19039 non-null  bool   \n",
      " 21  Niños                 19039 non-null  bool   \n",
      " 22  Guerra                19039 non-null  bool   \n",
      " 23  Harem                 19039 non-null  bool   \n",
      " 24  Vampiros              19039 non-null  bool   \n",
      " 25  Horror                19039 non-null  bool   \n",
      " 26  Acción                19039 non-null  bool   \n",
      " 27  Realidad              19039 non-null  bool   \n",
      " 28  Traps                 19039 non-null  bool   \n",
      " 29  Militar               19039 non-null  bool   \n",
      " 30  Crimen                19039 non-null  bool   \n",
      " 31  Recuentos de la vida  19039 non-null  bool   \n",
      " 32  Apocalíptico          19039 non-null  bool   \n",
      " 33  Psicológico           19039 non-null  bool   \n",
      " 34  Misterio              19039 non-null  bool   \n",
      " 35  Musica                19039 non-null  bool   \n",
      " 36  Extranjero            19039 non-null  bool   \n",
      " 37  Samurái               19039 non-null  bool   \n",
      " 38  Girls Love            19039 non-null  bool   \n",
      " 39  Telenovela            19039 non-null  bool   \n",
      " 40  Policiaco             19039 non-null  bool   \n",
      " 41  Animación             19039 non-null  bool   \n",
      " 42  Parodia               19039 non-null  bool   \n",
      " 43  Deporte               19039 non-null  bool   \n",
      " 44  Supervivencia         19039 non-null  bool   \n",
      " 45  Aventura              19039 non-null  bool   \n",
      " 46  Oeste                 19039 non-null  bool   \n",
      " 47  Superpoderes          19039 non-null  bool   \n",
      " 48  Ecchi                 19039 non-null  bool   \n",
      " 49  Tragedia              19039 non-null  bool   \n",
      " 50  Fantasia              19039 non-null  bool   \n",
      " 51  Gore                  19039 non-null  bool   \n",
      " 52  Boys Love             19039 non-null  bool   \n",
      " 53  Reencarnación         19039 non-null  bool   \n",
      " 54  Sobrenatural          19039 non-null  bool   \n",
      " 55  Vida Escolar          19039 non-null  bool   \n",
      " 56  Historia              19039 non-null  bool   \n",
      " 57  Romance               19039 non-null  bool   \n",
      " 58  Ciencia Ficción       19039 non-null  bool   \n",
      " 59  Thriller              19039 non-null  bool   \n",
      " 60  Ciberpunk             19039 non-null  bool   \n",
      " 61  Artes Marciales       19039 non-null  bool   \n",
      " 62  Comedia               19039 non-null  bool   \n",
      " 63  Familia               19039 non-null  bool   \n",
      "dtypes: bool(49), float64(7), object(8)\n",
      "memory usage: 3.2+ MB\n"
     ]
    }
   ],
   "source": [
    "dataset_df.info()"
   ]
  },
  {
   "cell_type": "code",
   "execution_count": 6,
   "metadata": {},
   "outputs": [
    {
     "data": {
      "text/plain": [
       "<Figure size 640x480 with 0 Axes>"
      ]
     },
     "metadata": {},
     "output_type": "display_data"
    },
    {
     "data": {
      "image/png": "[encoded data removed]",
      "text/plain": [
       "<Figure size 614.75x500 with 1 Axes>"
      ]
     },
     "metadata": {},
     "output_type": "display_data"
    }
   ],
   "source": [
    "# by_type\n",
    "plt.figure()\n",
    "sns_displot = sns.displot(data=dataset_df,\n",
    "            x=dataset_df[\"type\"],\n",
    "            kde=False,\n",
    "            hue=dataset_df[\"type\"],\n",
    "            palette=palette,\n",
    "            alpha=1);\n"
   ]
  },
  {
   "cell_type": "code",
   "execution_count": 8,
   "metadata": {},
   "outputs": [],
   "source": [
    "fig_displot = sns_displot.fig\n",
    "fig_displot.savefig('../img/by_type_displot.png')"
   ]
  },
  {
   "cell_type": "code",
   "execution_count": 9,
   "metadata": {},
   "outputs": [
    {
     "data": {
      "image/png": "[encoded data removed]",
      "text/plain": [
       "<Figure size 640x480 with 1 Axes>"
      ]
     },
     "metadata": {},
     "output_type": "display_data"
    }
   ],
   "source": [
    "fig_pie = plt.figure()\n",
    "plt.pie(dataset_df[\"type\"].value_counts(), labels=dataset_df[\"type\"].unique(), autopct='%.0f%%', colors=[\"#7986cb\", \"#81c784\", \"#8d6e63\"]);"
   ]
  },
  {
   "cell_type": "code",
   "execution_count": 10,
   "metadata": {},
   "outputs": [],
   "source": [
    "fig_pie.savefig('../img/by_type_pie.png')"
   ]
  }
 ],
 "metadata": {
  "kernelspec": {
   "display_name": "Python 3",
   "language": "python",
   "name": "python3"
  },
  "language_info": {
   "codemirror_mode": {
    "name": "ipython",
    "version": 3
   },
   "file_extension": ".py",
   "mimetype": "text/x-python",
   "name": "python",
   "nbconvert_exporter": "python",
   "pygments_lexer": "ipython3",
   "version": "3.10.11"
  },
  "orig_nbformat": 4
 },
 "nbformat": 4,
 "nbformat_minor": 2
}
