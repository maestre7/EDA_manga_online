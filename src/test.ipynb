{
 "cells": [
  {
   "cell_type": "code",
   "execution_count": 29,
   "metadata": {},
   "outputs": [],
   "source": [
    "\n",
    "from bs4 import BeautifulSoup as bs\n",
    "\n",
    "from utils.conn_selenium_v3 import conn_uc, get_element\n",
    "url = \"https://lectortmo.com/library/manga/28172/isekai-meikyuu-de-harem-wo\""
   ]
  },
  {
   "cell_type": "code",
   "execution_count": 30,
   "metadata": {},
   "outputs": [],
   "source": [
    "driver = conn_uc(headless = False)\n",
    "driver.get(url)"
   ]
  },
  {
   "cell_type": "code",
   "execution_count": 31,
   "metadata": {},
   "outputs": [],
   "source": [
    "#we get the internal html code of the body\n",
    "body = driver.execute_script(\"return document.body\")\n",
    "source = body.get_attribute('innerHTML')\n",
    "soup = bs(source, \"html.parser\")\n",
    "not_found = soup.find(\"h1\", class_=\"display-1\")"
   ]
  },
  {
   "cell_type": "code",
   "execution_count": 34,
   "metadata": {},
   "outputs": [
    {
     "name": "stdout",
     "output_type": "stream",
     "text": [
      "aaa\n"
     ]
    }
   ],
   "source": [
    "if not not_found:\n",
    "    print(\"aaa\")"
   ]
  },
  {
   "cell_type": "code",
   "execution_count": 32,
   "metadata": {},
   "outputs": [
    {
     "name": "stdout",
     "output_type": "stream",
     "text": [
      "https://lectortmo.com/view_uploads/1249440\n",
      "https://lectortmo.com/view_uploads/1245396\n",
      "https://lectortmo.com/view_uploads/1242543\n",
      "https://lectortmo.com/view_uploads/1236968\n",
      "https://lectortmo.com/view_uploads/1197198\n",
      "https://lectortmo.com/view_uploads/1208998\n",
      "https://lectortmo.com/view_uploads/1165498\n",
      "https://lectortmo.com/view_uploads/1151052\n",
      "https://lectortmo.com/view_uploads/1138328\n",
      "https://lectortmo.com/view_uploads/1108771\n",
      "https://lectortmo.com/view_uploads/1137543\n",
      "https://lectortmo.com/view_uploads/1104823\n",
      "https://lectortmo.com/view_uploads/1104191\n",
      "https://lectortmo.com/view_uploads/1051971\n",
      "https://lectortmo.com/view_uploads/1011576\n",
      "https://lectortmo.com/view_uploads/1011574\n",
      "https://lectortmo.com/view_uploads/965787\n",
      "https://lectortmo.com/view_uploads/953562\n",
      "https://lectortmo.com/view_uploads/901491\n",
      "https://lectortmo.com/view_uploads/901590\n",
      "https://lectortmo.com/view_uploads/862202\n",
      "https://lectortmo.com/view_uploads/846402\n",
      "https://lectortmo.com/view_uploads/820566\n",
      "https://lectortmo.com/view_uploads/793938\n",
      "https://lectortmo.com/view_uploads/760657\n",
      "https://lectortmo.com/view_uploads/741613\n",
      "https://lectortmo.com/view_uploads/719457\n",
      "https://lectortmo.com/view_uploads/704409\n",
      "https://lectortmo.com/view_uploads/680043\n",
      "https://lectortmo.com/view_uploads/659182\n",
      "https://lectortmo.com/view_uploads/633487\n",
      "https://lectortmo.com/view_uploads/621038\n",
      "https://lectortmo.com/view_uploads/606103\n",
      "https://lectortmo.com/view_uploads/577034\n",
      "https://lectortmo.com/view_uploads/577033\n",
      "https://lectortmo.com/view_uploads/577032\n",
      "https://lectortmo.com/view_uploads/569617\n",
      "https://lectortmo.com/view_uploads/563214\n",
      "https://lectortmo.com/view_uploads/549656\n",
      "https://lectortmo.com/view_uploads/536429\n",
      "https://lectortmo.com/view_uploads/517866\n",
      "https://lectortmo.com/view_uploads/498357\n",
      "https://lectortmo.com/view_uploads/486434\n",
      "https://lectortmo.com/view_uploads/473801\n",
      "https://lectortmo.com/view_uploads/459070\n",
      "https://lectortmo.com/view_uploads/448207\n",
      "https://lectortmo.com/view_uploads/436394\n",
      "https://lectortmo.com/view_uploads/427835\n",
      "https://lectortmo.com/view_uploads/422012\n",
      "https://lectortmo.com/view_uploads/410922\n",
      "https://lectortmo.com/view_uploads/389130\n",
      "https://lectortmo.com/view_uploads/366380\n",
      "https://lectortmo.com/view_uploads/364444\n",
      "https://lectortmo.com/view_uploads/364442\n",
      "https://lectortmo.com/view_uploads/364441\n",
      "https://lectortmo.com/view_uploads/364440\n",
      "https://lectortmo.com/view_uploads/364439\n",
      "https://lectortmo.com/view_uploads/364438\n",
      "https://lectortmo.com/view_uploads/364436\n",
      "https://lectortmo.com/view_uploads/364435\n",
      "https://lectortmo.com/view_uploads/331495\n",
      "https://lectortmo.com/view_uploads/347880\n",
      "https://lectortmo.com/view_uploads/330657\n",
      "https://lectortmo.com/view_uploads/364434\n",
      "https://lectortmo.com/view_uploads/346320\n",
      "https://lectortmo.com/view_uploads/329850\n",
      "https://lectortmo.com/view_uploads/364433\n",
      "https://lectortmo.com/view_uploads/325528\n",
      "https://lectortmo.com/view_uploads/364447\n",
      "https://lectortmo.com/view_uploads/303262\n",
      "https://lectortmo.com/view_uploads/364431\n",
      "https://lectortmo.com/view_uploads/301527\n",
      "https://lectortmo.com/view_uploads/364430\n",
      "https://lectortmo.com/view_uploads/289674\n",
      "https://lectortmo.com/view_uploads/364429\n",
      "https://lectortmo.com/view_uploads/277843\n",
      "https://lectortmo.com/view_uploads/364428\n",
      "https://lectortmo.com/view_uploads/267066\n",
      "https://lectortmo.com/view_uploads/364427\n",
      "https://lectortmo.com/view_uploads/256612\n",
      "https://lectortmo.com/view_uploads/364425\n",
      "https://lectortmo.com/view_uploads/243444\n",
      "https://lectortmo.com/view_uploads/364423\n",
      "https://lectortmo.com/view_uploads/241368\n",
      "https://lectortmo.com/view_uploads/364504\n",
      "https://lectortmo.com/view_uploads/239248\n",
      "https://lectortmo.com/view_uploads/364258\n",
      "https://lectortmo.com/view_uploads/574153\n"
     ]
    }
   ],
   "source": [
    "#print(soup)\n",
    "#ul = soup.find(\"ul\", class_=\"list-group list-group-flush chapter-list\")\n",
    "#print(ul)\n",
    "#row = soup.find_all(\"div\", class_=\"row\")\n",
    "#print(row)\n",
    "\n",
    "li = soup.find_all(\"li\", class_=\"list-group-item p-0 bg-light upload-link\")\n",
    "#print(len(li), li)\n",
    "for element in li:\n",
    "    title_cap = element.find(\"a\", class_=\"btn-collapse\").get_text()\n",
    "    data_cap = element.find_all(\"li\", class_=\"list-group-item\")\n",
    "    #print(data_cap)\n",
    "    for fansub_cap in data_cap:\n",
    "        info_cap = fansub_cap.div.find_all(\"div\")\n",
    "        url_fansub = info_cap[0].span.a.get('href')\n",
    "        name_fansub = info_cap[0].span.a.get_text()\n",
    "        #print(name_fansub, url_fansub)\n",
    "        date_upload = info_cap[1].span.get_text()\n",
    "        url_cap = info_cap[-1].a.get('href')\n",
    "        print(url_cap)\n"
   ]
  },
  {
   "cell_type": "code",
   "execution_count": 1,
   "metadata": {},
   "outputs": [],
   "source": [
    "import pandas as pd"
   ]
  },
  {
   "cell_type": "code",
   "execution_count": 2,
   "metadata": {},
   "outputs": [],
   "source": [
    "leecher_df = pd.read_csv(\"./data/origin/leecher.csv\")\n",
    "manga = leecher_df[leecher_df[\"Type\"] == \"MANGA\"]\n",
    "manhwa = leecher_df[leecher_df[\"Type\"] == \"MANHWA\"]\n",
    "manhua = leecher_df[leecher_df[\"Type\"] == \"MANHUA\"]"
   ]
  },
  {
   "cell_type": "code",
   "execution_count": 3,
   "metadata": {},
   "outputs": [],
   "source": [
    "manga_shounen = manga[manga[\"Demography\"] == \"Shounen\"]\n",
    "manga_seinen = manga[manga[\"Demography\"] == \"Seinen\"]\n",
    "manga_shoujo = manga[manga[\"Demography\"] == \"Shoujo\"]\n",
    "manga_josei = manga[manga[\"Demography\"] == \"Josei\"]\n",
    "manga_kodomo = manga[manga[\"Demography\"] == \"Kodomo\"]"
   ]
  },
  {
   "cell_type": "code",
   "execution_count": 4,
   "metadata": {},
   "outputs": [],
   "source": [
    "manhwa_shounen = manhwa[manhwa[\"Demography\"] == \"Shounen\"]\n",
    "manhwa_seinen = manhwa[manhwa[\"Demography\"] == \"Seinen\"]\n",
    "manhwa_shoujo = manhwa[manhwa[\"Demography\"] == \"Shoujo\"]\n",
    "manhwa_josei = manhwa[manhwa[\"Demography\"] == \"Josei\"]\n",
    "manhwa_kodomo = manhwa[manhwa[\"Demography\"] == \"Kodomo\"]"
   ]
  },
  {
   "cell_type": "code",
   "execution_count": 5,
   "metadata": {},
   "outputs": [],
   "source": [
    "manhua_shounen = manhua[manhua[\"Demography\"] == \"Shounen\"]\n",
    "manhua_seinen = manhua[manhua[\"Demography\"] == \"Seinen\"]\n",
    "manhua_shoujo = manhua[manhua[\"Demography\"] == \"Shoujo\"]\n",
    "manhua_josei = manhua[manhua[\"Demography\"] == \"Josei\"]\n",
    "manhua_kodomo = manhua[manhua[\"Demography\"] == \"Kodomo\"]"
   ]
  },
  {
   "cell_type": "code",
   "execution_count": 6,
   "metadata": {},
   "outputs": [],
   "source": [
    "manga_shounen.to_csv(\"./data/origin/manga_shounen.csv\")\n",
    "manga_seinen.to_csv(\"./data/origin/manga_seinen.csv\")\n",
    "manga_shoujo.to_csv(\"./data/origin/manga_shoujo.csv\")\n",
    "manga_josei.to_csv(\"./data/origin/manga_josei.csv\")\n",
    "manga_kodomo.to_csv(\"./data/origin/manga_kodomo.csv\")"
   ]
  },
  {
   "cell_type": "code",
   "execution_count": 7,
   "metadata": {},
   "outputs": [],
   "source": [
    "manhwa_shounen.to_csv(\"./data/origin/manhwa_shounen.csv\")\n",
    "manhwa_seinen.to_csv(\"./data/origin/manhwa_seinen.csv\")\n",
    "manhwa_shoujo.to_csv(\"./data/origin/manhwa_shoujo.csv\")\n",
    "manhwa_josei.to_csv(\"./data/origin/manhwa_josei.csv\")\n",
    "manhwa_kodomo.to_csv(\"./data/origin/manhwa_kodomo.csv\")"
   ]
  },
  {
   "cell_type": "code",
   "execution_count": 8,
   "metadata": {},
   "outputs": [],
   "source": [
    "manhua_shounen.to_csv(\"./data/origin/manhua_shounen.csv\")\n",
    "manhua_seinen.to_csv(\"./data/origin/manhua_seinen.csv\")\n",
    "manhua_shoujo.to_csv(\"./data/origin/manhua_shoujo.csv\")\n",
    "manhua_josei.to_csv(\"./data/origin/manhua_josei.csv\")\n",
    "manhua_kodomo.to_csv(\"./data/origin/manhua_kodomo.csv\")"
   ]
  },
  {
   "cell_type": "code",
   "execution_count": 10,
   "metadata": {},
   "outputs": [
    {
     "name": "stdout",
     "output_type": "stream",
     "text": [
      "['Shounen' 'Seinen' 'Shoujo' 'Josei' 'Kodomo']\n",
      "4\n"
     ]
    }
   ],
   "source": [
    "print(manga[\"Demography\"].unique())\n",
    "print(len(manhua_kodomo))\n",
    "#print(len())"
   ]
  },
  {
   "cell_type": "code",
   "execution_count": 11,
   "metadata": {},
   "outputs": [
    {
     "name": "stdout",
     "output_type": "stream",
     "text": [
      "3891\n",
      "3279\n",
      "4579\n",
      "2017\n",
      "76\n"
     ]
    }
   ],
   "source": [
    "print(len(manga_shounen))\n",
    "print(len(manga_seinen))\n",
    "print(len(manga_shoujo))\n",
    "print(len(manga_josei))\n",
    "print(len(manga_kodomo))"
   ]
  },
  {
   "cell_type": "code",
   "execution_count": 12,
   "metadata": {},
   "outputs": [
    {
     "name": "stdout",
     "output_type": "stream",
     "text": [
      "715\n",
      "747\n",
      "1202\n",
      "972\n",
      "5\n"
     ]
    }
   ],
   "source": [
    "print(len(manhwa_shounen))\n",
    "print(len(manhwa_seinen))\n",
    "print(len(manhwa_shoujo))\n",
    "print(len(manhwa_josei))\n",
    "print(len(manhwa_kodomo))"
   ]
  },
  {
   "cell_type": "code",
   "execution_count": 13,
   "metadata": {},
   "outputs": [
    {
     "name": "stdout",
     "output_type": "stream",
     "text": [
      "759\n",
      "361\n",
      "722\n",
      "551\n",
      "4\n"
     ]
    }
   ],
   "source": [
    "print(len(manhua_shounen))\n",
    "print(len(manhua_seinen))\n",
    "print(len(manhua_shoujo))\n",
    "print(len(manhua_josei))\n",
    "print(len(manhua_kodomo))"
   ]
  }
 ],
 "metadata": {
  "kernelspec": {
   "display_name": "Python 3",
   "language": "python",
   "name": "python3"
  },
  "language_info": {
   "codemirror_mode": {
    "name": "ipython",
    "version": 3
   },
   "file_extension": ".py",
   "mimetype": "text/x-python",
   "name": "python",
   "nbconvert_exporter": "python",
   "pygments_lexer": "ipython3",
   "version": "3.10.11"
  },
  "orig_nbformat": 4
 },
 "nbformat": 4,
 "nbformat_minor": 2
}
